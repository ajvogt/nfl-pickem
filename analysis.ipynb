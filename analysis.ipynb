{
 "cells": [
  {
   "cell_type": "code",
   "execution_count": null,
   "metadata": {},
   "outputs": [],
   "source": [
    "import time\n",
    "import multiprocessing as mp\n",
    "import numpy as np\n",
    "import pandas as pd\n",
    "import matplotlib.pyplot as plt\n",
    "from IPython.display import display\n",
    "\n",
    "plt.style.use('fivethirtyeight')\n",
    "\n",
    "from nfl_pickem import Pickem"
   ]
  },
  {
   "cell_type": "code",
   "execution_count": null,
   "metadata": {},
   "outputs": [],
   "source": [
    "pk = Pickem()\n",
    "print(pk.file_path)\n",
    "pk.pull_data()\n",
    "df = pk.build_schedule()"
   ]
  },
  {
   "cell_type": "code",
   "execution_count": null,
   "metadata": {},
   "outputs": [],
   "source": [
    "team = 'NE'\n",
    "cond = df.team == team\n",
    "plt.plot(df[cond].week.values,\n",
    "         df[cond].win_prob.values - df[cond].elo_prob1.values,\n",
    "         label=team+' Win Prob')\n",
    "plt.scatter(df[cond&(df.result1 > 0.9)].week.values,\n",
    "            0.3*df[cond&(df.result1 > 0.9)].result1.values - 0.15,\n",
    "            label='Win', c='C3')\n",
    "plt.scatter(df[cond&(df.result1 < 0.9)].week.values,\n",
    "            0.3*df[cond&(df.result1 < 0.9)].result1.values - 0.15,\n",
    "            label='Lose/Tie', c='C2')\n",
    "plt.ylabel('Win Prob Difference (from Week 1 ELO)')\n",
    "plt.xlabel('Week')\n",
    "plt.xticks(df[cond].week.values,\n",
    "           df[cond].week.values)\n",
    "plt.legend(loc='lower right')\n",
    "plt.show()"
   ]
  },
  {
   "cell_type": "markdown",
   "metadata": {},
   "source": [
    "## Historical Validation"
   ]
  },
  {
   "cell_type": "code",
   "execution_count": null,
   "metadata": {},
   "outputs": [],
   "source": [
    "df = pd.read_csv('results/strategy_analysis.csv')\n",
    "print(df.shape)"
   ]
  },
  {
   "cell_type": "code",
   "execution_count": null,
   "metadata": {},
   "outputs": [],
   "source": [
    "df = df.sort_values(by=['season', 'max_week'])\n",
    "for season in df.season.unique():\n",
    "    cond = df.season == season\n",
    "    plt.plot(df[cond].max_week.values,\n",
    "             df[cond].elim_week.values,\n",
    "             label=season)\n",
    "plt.legend()\n",
    "plt.show()"
   ]
  },
  {
   "cell_type": "code",
   "execution_count": null,
   "metadata": {},
   "outputs": [],
   "source": [
    "ew = df.groupby('max_week')['elim_week'].agg(['mean', 'std']).reset_index()\n",
    "plt.plot(ew.max_week.values,\n",
    "         ew['mean'].values)\n",
    "plt.errorbar(ew.max_week.values,\n",
    "             ew['mean'].values,\n",
    "             yerr=ew['std'].values,\n",
    "             elinewidth=2)\n",
    "plt.xticks(ew.max_week.values,\n",
    "           ew.max_week.values)\n",
    "plt.xlabel('Max Forecast Distance')\n",
    "plt.ylabel('Expected Elimination Week')\n",
    "plt.title('Pool Elimination (1997-2017)')\n",
    "plt.show()"
   ]
  },
  {
   "cell_type": "code",
   "execution_count": null,
   "metadata": {},
   "outputs": [],
   "source": [
    "ew = df.groupby('max_week')['correct'].agg(['mean', 'std']).reset_index()\n",
    "plt.plot(ew.max_week.values,\n",
    "         ew['mean'].values)\n",
    "plt.errorbar(ew.max_week.values,\n",
    "             ew['mean'].values,\n",
    "             yerr=ew['std'].values,\n",
    "             elinewidth=2)\n",
    "plt.xticks(ew.max_week.values,\n",
    "           ew.max_week.values)\n",
    "plt.xlabel('Max Forecast Distance')\n",
    "plt.ylabel('Expected Correct Picks')\n",
    "plt.title('Pick Success (1997-2017)')\n",
    "plt.show()"
   ]
  },
  {
   "cell_type": "markdown",
   "metadata": {},
   "source": [
    "## Checking New Model"
   ]
  },
  {
   "cell_type": "code",
   "execution_count": null,
   "metadata": {},
   "outputs": [],
   "source": [
    "pk = Pickem()\n",
    "pk.file_path = '../nfl-pickem/data/nfl_elo.csv'\n",
    "pk.pull_data()\n",
    "pk.data_.head()"
   ]
  },
  {
   "cell_type": "code",
   "execution_count": null,
   "metadata": {},
   "outputs": [],
   "source": [
    "df = pk.build_schedule(season=2017,\n",
    "                       qb_elo_model=True)\n",
    "cols = ['neutral', 'team1', 'team2', 'elo1_pre', 'elo2_pre',\n",
    "        'qbelo1_pre', 'qbelo2_pre',\n",
    "        'qb1_value_pre', 'qb2_value_pre', 'qb1_adj', 'qb2_adj',\n",
    "        'qbelo_prob1', 'qbelo_prob2']\n",
    "print(1/(1+np.power(10, -1*(df.qbelo2_pre.iloc[8]-df.qbelo1_pre.iloc[8]\n",
    "                 +df.qb2_adj.iloc[8]-df.qb1_adj.iloc[8]-55-4*1633/1000\n",
    "                   )/400)))\n",
    "display(df[(df.team1 == 'GB')|(df.team2 == 'GB')][cols])"
   ]
  },
  {
   "cell_type": "code",
   "execution_count": null,
   "metadata": {},
   "outputs": [],
   "source": [
    "df.columns"
   ]
  },
  {
   "cell_type": "code",
   "execution_count": null,
   "metadata": {},
   "outputs": [],
   "source": [
    "68*3.3"
   ]
  },
  {
   "cell_type": "code",
   "execution_count": null,
   "metadata": {},
   "outputs": [],
   "source": [
    "cols = ['date', 'neutral', 'team1', 'team2', 'elo1_pre',\n",
    "        'elo2_pre', 'qbelo1_pre', 'qbelo2_pre',\n",
    "        'qb1_value_pre', 'qb2_value_pre', 'qb1_adj', 'qb2_adj',\n",
    "        'qbelo_prob1', 'qbelo_prob2', 'qbelo1_post', 'qbelo2_post',]\n",
    "df[(df.season == 2019)&\n",
    "   ((df.team1 == 'GB')|(df.team2 == 'GB'))][cols].head(10)"
   ]
  },
  {
   "cell_type": "code",
   "execution_count": null,
   "metadata": {},
   "outputs": [],
   "source": [
    "1/(1+10**(-1*(1588.897931+55-1455.13137+174-191+4*185.5/1000)/400))"
   ]
  },
  {
   "cell_type": "code",
   "execution_count": null,
   "metadata": {},
   "outputs": [],
   "source": [
    "df.columns"
   ]
  },
  {
   "cell_type": "code",
   "execution_count": null,
   "metadata": {},
   "outputs": [],
   "source": [
    "(-400*np.log10(1/df.qbelo_prob1.iloc[15751]-1)-(1592.676645+55-1588.11685+18.210896+2.857484))*1000/4"
   ]
  },
  {
   "cell_type": "code",
   "execution_count": null,
   "metadata": {},
   "outputs": [],
   "source": [
    "2581*4/1000"
   ]
  },
  {
   "cell_type": "code",
   "execution_count": null,
   "metadata": {},
   "outputs": [],
   "source": [
    "df.qbelo_prob1.iloc[15751]"
   ]
  },
  {
   "cell_type": "code",
   "execution_count": null,
   "metadata": {},
   "outputs": [],
   "source": [
    "tmp = df[(df.season == 2017)]\n",
    "tmp['elo_adj'] = -400*np.log10(1/df.elo_prob1 - 1) - (tmp['elo1_pre'] - tmp['elo2_pre'])\n",
    "tmp[['neutral', 'elo_adj']]"
   ]
  },
  {
   "cell_type": "code",
   "execution_count": null,
   "metadata": {},
   "outputs": [],
   "source": []
  }
 ],
 "metadata": {
  "kernelspec": {
   "display_name": "Python 3",
   "language": "python",
   "name": "python3"
  },
  "language_info": {
   "codemirror_mode": {
    "name": "ipython",
    "version": 3
   },
   "file_extension": ".py",
   "mimetype": "text/x-python",
   "name": "python",
   "nbconvert_exporter": "python",
   "pygments_lexer": "ipython3",
   "version": "3.7.4"
  }
 },
 "nbformat": 4,
 "nbformat_minor": 2
}
